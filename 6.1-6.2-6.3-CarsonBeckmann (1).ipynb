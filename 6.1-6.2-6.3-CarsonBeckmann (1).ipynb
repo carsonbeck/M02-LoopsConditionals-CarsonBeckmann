{
 "cells": [
  {
   "cell_type": "code",
   "execution_count": null,
   "id": "8a8f01de-0101-4e44-84c9-93d0f2b788d9",
   "metadata": {},
   "outputs": [],
   "source": [
    "list = [3,2,1,0]\n",
    "\n",
    "for value in list:\n",
    "    print(value)"
   ]
  },
  {
   "cell_type": "code",
   "execution_count": 61,
   "id": "d3810455-1e66-4f43-b94c-4e60d1e5570a",
   "metadata": {},
   "outputs": [
    {
     "name": "stdout",
     "output_type": "stream",
     "text": [
      "Too low\n",
      "oops\n"
     ]
    },
    {
     "ename": "SyntaxError",
     "evalue": "'break' outside loop (932899944.py, line 13)",
     "output_type": "error",
     "traceback": [
      "\u001b[1;36m  Cell \u001b[1;32mIn[61], line 13\u001b[1;36m\u001b[0m\n\u001b[1;33m    break\u001b[0m\n\u001b[1;37m    ^\u001b[0m\n\u001b[1;31mSyntaxError\u001b[0m\u001b[1;31m:\u001b[0m 'break' outside loop\n"
     ]
    }
   ],
   "source": [
    "guess_me = 7\n",
    "number = 1\n",
    "\n",
    "while True:\n",
    "    if number < guess_me:\n",
    "        print(\"Too low\")\n",
    "        break\n",
    "    elif number == guess_me:\n",
    "        print(\"Found it\")\n",
    "        break\n",
    "else: number > guess_me\n",
    "print(\"oops\")\n",
    "break\n",
    "number =+ 1"
   ]
  },
  {
   "cell_type": "code",
   "execution_count": 3,
   "id": "cdc4710b-61a5-4459-8f8e-1c623f285ba1",
   "metadata": {},
   "outputs": [
    {
     "name": "stdout",
     "output_type": "stream",
     "text": [
      "too low\n",
      "too low\n",
      "too low\n",
      "too low\n",
      "too low\n",
      "found it!\n"
     ]
    }
   ],
   "source": [
    "guess_me = 5\n",
    "for number in range(10):\n",
    "    if number < guess_me:\n",
    "        print(\"too low\")\n",
    "    if number == guess_me:\n",
    "        print(\"found it!\")\n",
    "        break\n",
    "    if number > guess_me:\n",
    "        print(\"oops\")\n",
    "        break"
   ]
  }
 ],
 "metadata": {
  "kernelspec": {
   "display_name": "Python 3 (ipykernel)",
   "language": "python",
   "name": "python3"
  },
  "language_info": {
   "codemirror_mode": {
    "name": "ipython",
    "version": 3
   },
   "file_extension": ".py",
   "mimetype": "text/x-python",
   "name": "python",
   "nbconvert_exporter": "python",
   "pygments_lexer": "ipython3",
   "version": "3.12.4"
  }
 },
 "nbformat": 4,
 "nbformat_minor": 5
}

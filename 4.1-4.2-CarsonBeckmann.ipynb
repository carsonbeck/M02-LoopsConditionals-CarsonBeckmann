{
 "cells": [
  {
   "cell_type": "code",
   "execution_count": 23,
   "id": "57043430-f175-4d73-ba19-ab99e81741a1",
   "metadata": {},
   "outputs": [
    {
     "name": "stdout",
     "output_type": "stream",
     "text": [
      "The secret number is not 8 . Try a lower number.\n"
     ]
    }
   ],
   "source": [
    "secret = 2\n",
    "guess = 8\n",
    "if guess > secret:\n",
    "    print(\"The secret number is not\",guess,\". Try a lower number.\")\n",
    "    \n",
    "if guess < secret:\n",
    "    print(\"The secret number is not\",guess,\". Try a higher number.\")\n",
    "    \n",
    "if guess == secret:\n",
    "    print(\"Just right! The secret number is\",secret,\"!\")"
   ]
  },
  {
   "cell_type": "code",
   "execution_count": 29,
   "id": "3e321821-d578-4c7b-9ae6-ad509b1e8fae",
   "metadata": {},
   "outputs": [
    {
     "name": "stdout",
     "output_type": "stream",
     "text": [
      "Cherry\n"
     ]
    }
   ],
   "source": [
    "small = True\n",
    "green = False\n",
    "\n",
    "if small and green:\n",
    "    print(\"Pea\")\n",
    "elif small and not green:\n",
    "    print(\"Cherry\")\n",
    "elif green and not small:\n",
    "    print(\"Watermelon\")\n",
    "elif not small and not green:\n",
    "    print(\"Pumpkin\")"
   ]
  }
 ],
 "metadata": {
  "kernelspec": {
   "display_name": "Python 3 (ipykernel)",
   "language": "python",
   "name": "python3"
  },
  "language_info": {
   "codemirror_mode": {
    "name": "ipython",
    "version": 3
   },
   "file_extension": ".py",
   "mimetype": "text/x-python",
   "name": "python",
   "nbconvert_exporter": "python",
   "pygments_lexer": "ipython3",
   "version": "3.12.4"
  }
 },
 "nbformat": 4,
 "nbformat_minor": 5
}
